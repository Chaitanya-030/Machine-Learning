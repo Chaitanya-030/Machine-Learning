{
 "cells": [
  {
   "cell_type": "code",
   "execution_count": null,
   "metadata": {},
   "outputs": [],
   "source": [
    "# THIS IS A GENERAL CODE WHICH WILL WORK FOR SIMPLE LINEAR REGRESSION ALSO BUT ITS TIME COMPLEXITY IS NEARLY O(n^3) AND HENCE WE USE GRADIENT DESCENT ALGORITHM"
   ]
  },
  {
   "cell_type": "code",
   "execution_count": 10,
   "metadata": {},
   "outputs": [
    {
     "name": "stdout",
     "output_type": "stream",
     "text": [
      "0.4399338661568969\n"
     ]
    }
   ],
   "source": [
    "import numpy as np\n",
    "from sklearn.datasets import load_diabetes\n",
    "from sklearn.model_selection import train_test_split\n",
    "from sklearn.metrics import r2_score\n",
    "from sklearn.linear_model import LinearRegression\n",
    "\n",
    "x, y = load_diabetes(return_X_y=True)\n",
    "x_train, x_test, y_train, y_test = train_test_split(x, y, test_size=0.2, random_state=2)\n",
    "\n",
    "# print(x_train.shape)\n",
    "# print(x_test.shape)\n",
    "\n",
    "\n",
    "reg = LinearRegression()\n",
    "reg.fit(x_train, y_train)\n",
    "\n",
    "y_pred = reg.predict(x_test)\n",
    "r2 = r2_score(y_test,y_pred)\n",
    "\n",
    "print(r2)\n",
    "\n",
    "# equation of multi regression --> y = B0 + B1x1 + B2x2 + ... + Bnxn\n",
    "# print(reg.coef_) --> values of B1, B2, B3, ... , Bn\n",
    "# print(reg.intercept_) --> value of B0\n"
   ]
  },
  {
   "cell_type": "code",
   "execution_count": 16,
   "metadata": {},
   "outputs": [
    {
     "name": "stdout",
     "output_type": "stream",
     "text": [
      "0.43993386615689656\n"
     ]
    }
   ],
   "source": [
    "# MAKING OUR OWN LINEAR REGRESSION CLASS\n",
    "\n",
    "class func() :\n",
    "    \n",
    "    def __init__(self) :\n",
    "        self.coef_ = None\n",
    "        self.intercept_ = None\n",
    "\n",
    "    def fit(self, x_train, y_train) :\n",
    "        x_train = np.insert(x_train, 0, 1, axis=1)\n",
    "\n",
    "        # calculate the coeffs [ B = ((X(t)*X)^-1)*X(t)*Y ]\n",
    "        betas = np.linalg.inv(np.dot(x_train.T, x_train)).dot(x_train.T).dot(y_train)\n",
    "        self.intercept_ = betas[0]\n",
    "        self.coef_ = betas[1:]\n",
    "        # print(betas)\n",
    "\n",
    "\n",
    "    def predict(self, x_test) : \n",
    "        y_pred = np.dot(x_test, self.coef_) + self.intercept_\n",
    "        return y_pred\n",
    "\n",
    "\n",
    "lr = func()\n",
    "lr.fit(x_train, y_train)\n",
    "\n",
    "y_pred = lr.predict(x_test)\n",
    "\n",
    "r2 = r2_score(y_test, y_pred)\n",
    "print(r2)\n",
    "\n",
    "\n"
   ]
  }
 ],
 "metadata": {
  "kernelspec": {
   "display_name": "Python 3",
   "language": "python",
   "name": "python3"
  },
  "language_info": {
   "codemirror_mode": {
    "name": "ipython",
    "version": 3
   },
   "file_extension": ".py",
   "mimetype": "text/x-python",
   "name": "python",
   "nbconvert_exporter": "python",
   "pygments_lexer": "ipython3",
   "version": "3.8.2"
  }
 },
 "nbformat": 4,
 "nbformat_minor": 2
}
