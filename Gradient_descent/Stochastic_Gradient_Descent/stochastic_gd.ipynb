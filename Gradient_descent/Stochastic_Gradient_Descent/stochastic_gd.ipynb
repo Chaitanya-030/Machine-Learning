{
 "cells": [
  {
   "cell_type": "code",
   "execution_count": 14,
   "metadata": {},
   "outputs": [
    {
     "name": "stdout",
     "output_type": "stream",
     "text": [
      "0.4132774924538123\n",
      "[  61.58430924  -38.38758739  295.20805227  213.47636217   32.85380909\n",
      "   -2.14189936 -155.81266323  127.86632494  271.61804752  124.53141586]\n",
      "[153.56473873]\n"
     ]
    }
   ],
   "source": [
    "from sklearn.datasets import load_diabetes\n",
    "import numpy as np\n",
    "from sklearn.linear_model import SGDRegressor\n",
    "from sklearn.model_selection import train_test_split\n",
    "from sklearn.metrics import r2_score\n",
    "\n",
    "x, y = load_diabetes(return_X_y=True)\n",
    "x_train, x_test, y_train, y_test = train_test_split(x, y, test_size=0.2, random_state=2)\n",
    "\n",
    "reg = SGDRegressor(max_iter=200, learning_rate='constant', eta0=0.01)\n",
    "reg.fit(x_train, y_train)\n",
    "\n",
    "y_pred = reg.predict(x_test)\n",
    "\n",
    "r2 = r2_score(y_test, y_pred)\n",
    "print(r2)\n",
    "print(reg.coef_)\n",
    "print(reg.intercept_)"
   ]
  },
  {
   "cell_type": "code",
   "execution_count": 15,
   "metadata": {},
   "outputs": [
    {
     "name": "stdout",
     "output_type": "stream",
     "text": [
      "[  50.49930808  -64.41857133  352.87351983  242.71526534   13.20347229\n",
      "  -31.93095513 -174.756954    129.9464573   315.96407873  134.84279221] 146.0145059495218\n",
      "0.4281447569701802\n"
     ]
    }
   ],
   "source": [
    "x, y = load_diabetes(return_X_y=True)\n",
    "x_train, x_test, y_train, y_test = train_test_split(x, y, test_size=0.2, random_state=2)\n",
    "\n",
    "class func() : \n",
    "    def __init__(self, learning_rate=0.01, epochs=100) : \n",
    "        self.coef_ = None\n",
    "        self.intercept_ = None\n",
    "        self.lr = learning_rate\n",
    "        self.epochs = epochs \n",
    "\n",
    "    def fit(self, x_train, y_train) : \n",
    "        # initialize your coeffs\n",
    "        self.intercept_ = 0\n",
    "        self.coef_ = np.ones(x_train.shape[1])\n",
    "        # print(self.intercept_, self.coef_)\n",
    "\n",
    "        for i in range(self.epochs) : \n",
    "            for j in range(x_train.shape[0]) :\n",
    "                idx = np.random.randint(0, x_train.shape[0])\n",
    "                y_hat = np.dot(x_train[idx], self.coef_) + self.intercept_\n",
    "\n",
    "                intercept_der = -2 * (y_train[idx] - y_hat)\n",
    "                self.intercept_ = self.intercept_ - (self.lr * intercept_der)\n",
    "\n",
    "                coef_der = -2 * np.dot((y_train[idx] - y_hat), x_train[idx])\n",
    "                self.coef_ = self.coef_ - (self.lr * coef_der)\n",
    "\n",
    "        print(self.coef_, self.intercept_)\n",
    "\n",
    "    def predict(self, x_test) :\n",
    "        return np.dot(x_test, self.coef_) + self.intercept_\n",
    "\n",
    "\n",
    "gd = func(epochs=50,learning_rate=0.01)\n",
    "gd.fit(x_train, y_train)\n",
    "\n",
    "y_pred = gd.predict(x_test)\n",
    "r2 = r2_score(y_test, y_pred)\n",
    "print(r2)"
   ]
  }
 ],
 "metadata": {
  "kernelspec": {
   "display_name": "Python 3",
   "language": "python",
   "name": "python3"
  },
  "language_info": {
   "codemirror_mode": {
    "name": "ipython",
    "version": 3
   },
   "file_extension": ".py",
   "mimetype": "text/x-python",
   "name": "python",
   "nbconvert_exporter": "python",
   "pygments_lexer": "ipython3",
   "version": "3.8.2"
  }
 },
 "nbformat": 4,
 "nbformat_minor": 2
}
