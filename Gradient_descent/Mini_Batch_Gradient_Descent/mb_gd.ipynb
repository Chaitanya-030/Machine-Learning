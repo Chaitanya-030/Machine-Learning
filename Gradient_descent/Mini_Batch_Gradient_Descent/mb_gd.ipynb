{
 "cells": [
  {
   "cell_type": "code",
   "execution_count": 4,
   "metadata": {},
   "outputs": [
    {
     "name": "stdout",
     "output_type": "stream",
     "text": [
      "(442, 10)\n",
      "(442,)\n",
      "0.32618049697014584\n"
     ]
    }
   ],
   "source": [
    "\n",
    "from sklearn.datasets import load_diabetes\n",
    "import numpy as np\n",
    "from sklearn.linear_model import SGDRegressor\n",
    "from sklearn.metrics import r2_score\n",
    "from sklearn.model_selection import train_test_split\n",
    "\n",
    "x, y = load_diabetes(return_X_y=True)\n",
    "print(x.shape)\n",
    "print(y.shape)\n",
    "\n",
    "x_train, x_test, y_train, y_test = train_test_split(x, y, test_size=0.2, random_state=2)\n",
    "reg = SGDRegressor(learning_rate='constant', eta0=0.1)\n",
    "\n",
    "batch_size = 35\n",
    "for i in range(100) : \n",
    "    idx = random.sample(range(x_train.shape[0]), batch_size)\n",
    "    reg.partial_fit(x_train[idx], y_train[idx])\n",
    "\n",
    "# print(reg.coef_)\n",
    "# print(reg.intercept_)\n",
    "\n",
    "y_pred = reg.predict(x_test)\n",
    "r2 = r2_score(y_test, y_pred)\n",
    "print(r2)"
   ]
  },
  {
   "cell_type": "code",
   "execution_count": 3,
   "metadata": {},
   "outputs": [
    {
     "name": "stdout",
     "output_type": "stream",
     "text": [
      "[  56.64798065  -65.03015866  355.32846608  245.82686599   19.90989614\n",
      "  -27.98473823 -173.11720899  129.73382413  322.47214006  129.18908963] 151.79888530141474\n",
      "0.4334391479446197\n"
     ]
    }
   ],
   "source": [
    "import random\n",
    "x, y = load_diabetes(return_X_y=True)\n",
    "x_train, x_test, y_train, y_test = train_test_split(x, y, test_size=0.2, random_state=2)\n",
    "\n",
    "class func() : \n",
    "    def __init__(self, batch_size, learning_rate=0.01, epochs=100) : \n",
    "        self.coef_ = None\n",
    "        self.intercept_ = None\n",
    "        self.lr = learning_rate\n",
    "        self.epochs = epochs \n",
    "        self.batch_size = batch_size\n",
    "\n",
    "    def fit(self, x_train, y_train) : \n",
    "        # initialize your coeffs\n",
    "        self.intercept_ = 0\n",
    "        self.coef_ = np.ones(x_train.shape[1])\n",
    "        # print(self.intercept_, self.coef_)\n",
    "\n",
    "        for i in range(self.epochs) : \n",
    "            # update all the coeffs and intercept\n",
    "            for j in range(int(x_train.shape[0] / self.batch_size)) :\n",
    "                idx = random.sample(range(x_train.shape[0]), self.batch_size)\n",
    "\n",
    "                y_hat = np.dot(x_train[idx], self.coef_) + self.intercept_\n",
    "                intercept_der = -2 * np.mean(y_train[idx] - y_hat)\n",
    "                self.intercept_ = self.intercept_ - (self.lr * intercept_der)\n",
    "\n",
    "                coef_der = -2 * np.dot((y_train[idx] - y_hat), x_train[idx])\n",
    "                self.coef_ = self.coef_ - (self.lr * coef_der)\n",
    "        print(self.coef_, self.intercept_)\n",
    "\n",
    "    def predict(self, x_test) :\n",
    "        return np.dot(x_test, self.coef_) + self.intercept_\n",
    "\n",
    "\n",
    "gd = func(batch_size=int(x_train.shape[0]/10), learning_rate=0.01, epochs=50)\n",
    "gd.fit(x_train, y_train)\n",
    "\n",
    "y_pred = gd.predict(x_test)\n",
    "r2 = r2_score(y_test, y_pred)\n",
    "print(r2)\n"
   ]
  }
 ],
 "metadata": {
  "kernelspec": {
   "display_name": "Python 3",
   "language": "python",
   "name": "python3"
  },
  "language_info": {
   "codemirror_mode": {
    "name": "ipython",
    "version": 3
   },
   "file_extension": ".py",
   "mimetype": "text/x-python",
   "name": "python",
   "nbconvert_exporter": "python",
   "pygments_lexer": "ipython3",
   "version": "3.8.2"
  }
 },
 "nbformat": 4,
 "nbformat_minor": 2
}
