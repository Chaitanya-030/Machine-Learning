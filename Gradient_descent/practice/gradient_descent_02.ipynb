{
 "cells": [
  {
   "cell_type": "code",
   "execution_count": 11,
   "metadata": {},
   "outputs": [
    {
     "data": {
      "text/plain": [
       "<matplotlib.collections.PathCollection at 0x2b0e047d400>"
      ]
     },
     "execution_count": 11,
     "metadata": {},
     "output_type": "execute_result"
    },
    {
     "data": {
      "image/png": "[encoded data removed]",
      "text/plain": [
       "<Figure size 640x480 with 1 Axes>"
      ]
     },
     "metadata": {},
     "output_type": "display_data"
    }
   ],
   "source": [
    "from sklearn.datasets import make_regression\n",
    "\n",
    "import matplotlib.pyplot as plt\n",
    "import numpy as np\n",
    "\n",
    "x, y = make_regression(n_samples=100, n_features=1, n_informative=1, n_targets=1, noise=15, random_state=2)\n",
    "\n",
    "plt.scatter(x, y)\n",
    "\n"
   ]
  },
  {
   "cell_type": "code",
   "execution_count": 29,
   "metadata": {},
   "outputs": [
    {
     "name": "stdout",
     "output_type": "stream",
     "text": [
      "0.8905688583562296\n"
     ]
    }
   ],
   "source": [
    "from sklearn.linear_model import LinearRegression\n",
    "from sklearn.model_selection import train_test_split\n",
    "from sklearn.metrics import r2_score\n",
    "\n",
    "x_train, x_test, y_train, y_test = train_test_split(x, y, test_size=0.2, random_state=3)\n",
    "\n",
    "reg = LinearRegression()\n",
    "reg.fit(x_train, y_train)\n",
    "# print(reg.coef_)\n",
    "# print(reg.intercept_)\n",
    "\n",
    "y_pred = reg.predict(x_test)\n",
    "r2 = r2_score(y_pred, y_test)\n",
    "print(r2)\n"
   ]
  },
  {
   "cell_type": "code",
   "execution_count": 30,
   "metadata": {},
   "outputs": [
    {
     "name": "stdout",
     "output_type": "stream",
     "text": [
      "0.9825611711986612 58.62472151743984\n",
      "0.8905688647256601\n"
     ]
    }
   ],
   "source": [
    "from sklearn.model_selection import cross_val_score\n",
    "m = 100\n",
    "\n",
    "class func() :\n",
    "    def __init__(self, learning_rate, epochs) : \n",
    "        self.m = m\n",
    "        self.c = -100\n",
    "        self.lr = learning_rate\n",
    "        self.epochs = epochs\n",
    "\n",
    "    def fit(self, x, y) : \n",
    "        # calculate c using GD\n",
    "\n",
    "        for i in range(self.epochs) :\n",
    "            loss_slope_b = -2*np.sum(y - self.m*x.ravel() - self.c)\n",
    "            loss_slope_m = -2*np.sum((y - self.m*x.ravel() - self.c)*x.ravel())\n",
    "            self.c = self.c - self.lr*loss_slope_b\n",
    "            self.m = self.m - self.lr*loss_slope_m\n",
    "        print(self.c, self.m)\n",
    "\n",
    "    def predict(self, x) :\n",
    "        return self.m * x + self.c\n",
    "\n",
    "\n",
    "gd = func(0.001, 100)\n",
    "gd.fit(x_train, y_train)\n",
    "\n",
    "y_pred = gd.predict(x_test)\n",
    "r2 = r2_score(y_pred, y_test)\n",
    "print(r2)\n",
    "\n",
    "# np.mean(cross_val_score(gd, x, y, scoring='r2', cv=10))\n",
    "\n",
    "\n",
    "\n"
   ]
  }
 ],
 "metadata": {
  "kernelspec": {
   "display_name": "Python 3",
   "language": "python",
   "name": "python3"
  },
  "language_info": {
   "codemirror_mode": {
    "name": "ipython",
    "version": 3
   },
   "file_extension": ".py",
   "mimetype": "text/x-python",
   "name": "python",
   "nbconvert_exporter": "python",
   "pygments_lexer": "ipython3",
   "version": "3.8.2"
  }
 },
 "nbformat": 4,
 "nbformat_minor": 2
}
